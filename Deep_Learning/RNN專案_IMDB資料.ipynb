{
  "nbformat": 4,
  "nbformat_minor": 0,
  "metadata": {
    "colab": {
      "provenance": [],
      "gpuType": "T4",
      "authorship_tag": "ABX9TyMnoFQTZq/CzoMuWng0Kl//"
    },
    "kernelspec": {
      "name": "python3",
      "display_name": "Python 3"
    },
    "language_info": {
      "name": "python"
    },
    "accelerator": "GPU"
  },
  "cells": [
    {
      "cell_type": "markdown",
      "source": [
        "# IMDB數據集\n",
        "\n",
        "IMDB數據集（Internet Movie Database Dataset）是電影評論數據集，廣泛用於自然語言處理（NLP）領域中的文本分類任務，尤其是情感分析。IMDB數據集由來自IMDB網站的電影評論構成，並標記為正面評論或負面評論。\n",
        "\n",
        "\n",
        "常見的IMDB數據集特點：\n",
        "\n",
        "規模：包含50,000條評論，其中25,000條用作訓練集，另外25,000條用作測試集。\n",
        "\n",
        "標籤：評論按照情感標籤分為正面（positive）或負面（negative）。\n",
        "\n",
        "應用：IMDB數據集經常用於文本分類、情感分析的模型訓練和測試，如使用LSTM、BERT等深度學習模型。"
      ],
      "metadata": {
        "id": "nUnjCOXaxNXv"
      }
    },
    {
      "cell_type": "markdown",
      "source": [
        "![下載.jpg](data:image/jpeg;base64,/9j/4AAQSkZJRgABAQAAAQABAAD/2wCEAAkGBxMTEhUSEhMVFRUWGSIbGRgYGR8XIRweIBoaHxsgHiAgKCggGB4lGx4eITEhJSorLi4wGx8zODMsNyotLisBCgoKDg0OGxAQGi0lHyUtMC8tLS0tLS0tLS0vLy8vLS0tLS0tLS0tLS0tLy0tLS0tLS0tLTUtNS0tLS0vNS0tLf/AABEIAIYBdwMBIgACEQEDEQH/xAAbAAACAwEBAQAAAAAAAAAAAAADBAACBQEGB//EAD4QAAIBAwIEBAMFCAAHAAMBAAECEQMSIQAxBAUTIjJBUWFCcZEGFSNSgRQzU2KSoaLRFnKCsbLB4SRD8MP/xAAXAQEBAQEAAAAAAAAAAAAAAAAAAQID/8QAJxEBAQACAgEBCAMBAAAAAAAAAAERQSExYQMCIlGBkdHw8ROhwRL/2gAMAwEAAhEDEQA/APqnEVQol3VRtLQBnAGfXUHDwcFQf+UaU56ZokKpdiRAFuMjOSIxp5a6mDIE+RIkfPQW5fwhNNPxM2KYtHmNGpcJcJWrIkiQAcgkEfoQR+mslqdQ9Ii9qPTo3Kj2kwta6O4bMaZO0gecRrS+zVM06AVwUN9Q2uwZgGquyyQTJtI89ASryq4Ws8g+RUeRn/vrv3X3XX90RNomJmPrp/qD1H11OoPUfXQJfd7fxP8AEan3e38T/Ead6g9R9dTqD1H10GdQ5eY/eHc/CPzHRPu9v4n+I0jzNHL0mQO1rGQGtXNRctDKZABOzAi4RnWfwPBV4AqPUklBU7rQYY3sDexg+wXBGMYQrcbg43q/2HrA/voPD8hRCWQhSfMKPMyfkJzrKo8DVWoWhyYCq/UmEXiWIB7s/gkZySJnOu1eW1emYareaNQ/vj+9uBpfFGBI9I30G593t/E/xGuHgT/E3/lGsSvwvEFqxvqBj1LSrAKQf3YBL4IEbIDKnOZJk4Fl4hWIdqaVWsPUutVqVPJlpK9QNgzvtGg0qfLzLfiHf8o/Kuifd7fxP8RoPMqJdqYDG0Vpe17e3pNvBBIutx8tZPDcPxChnLVDUTutuAFQh5IE1CMrcBhR3CYgQG2OBMkdTI/lGgLyJA/UBF8zNo3iCfnGJ31l1+F4iACzMJBe1pklXLR3obQ52n0xjEfhuKXwu7BVFpLqCzOoRrsx+HHU8/HiSNBufd7fxP8AEan3e38T/EabpsAALthGTq3UHqProM4cvNx/EOw+EeraJ93t/E/xGmRUFxyNh5+7aJ1B6j66BL7vb+J/iNLHkCX9SRdMzaN4ifSYxOtbqD1H11OoPUfXQJfd7fxP8Rqfd7fxP8Rp3qD1H11OoPUfXQZzcvNw/EOx+Eeq6J93t/E/xGmTUFwyNj5+66J1B6j66BL7vb+J/iNAr8kVyGZpYYBiCBg+XlIGtTqD1H11OoPUfXQJfd7fxP8AEan3e38T/Ead6g9R9dTqD1H10GdU5eZX8Q7/AJR+VtE+72/if4jTNSoJXI39fY6J1B6j66BL7vb+J/iNVblckEvldjaMTg/20/1B6j66nUHqProEvu9v4n+I1Pu9v4n+I071B6j66nUHqProM6vy8x+8O4+EfmGifd7fxP8AEaZrVBG43Hn7jROoPUfXQJfd7fxP8RoXEcoDi12uEzlRuNj7H31pdQeo+up1B6j66DO4flAQWo1o3gKNzkn3JPnon3e38T/Ead6g9R9dTqD1H10GdxHLzY34h2Pwj00T7vb+J/iNM16gtbI2Pn7aJ1B6j66BL7vb+J/iNTTvUHqPrqaDB452VZQJ/MzmAoAJkxk+n99X4R70RylpZQSp3EgGD8tB5hwjVbQGZLWu7SpnBiQysCAc/MA6OhcACAx9S0T74WPpoKUOZ2GjS7QppUyWZWPiJUCQLV2gFiJJA1bhOcM5qBUpllUm0NlCGi2pjtJGceh9iSUOANSnSJdwvTSUDC1rYIkFSRne0iRvMDXafJSsxUqeEouU7FJBIXszMAS12366lzhdpxHN7adBggLVTTkTFquyKT7wXEDz0fnHG9FVPYLmtLObVXtYyT7kR8yNJt9nUKIjNVJSwBxVZCRTYMgYIFQ5EeGf1zpmvwNV7S9QKUMqaa2kGCpm+8EQT5at8Mw5wNXqU0qFbS6hrfSQDH6aPaPTS3BcP0qaU1HaihRLZgCM40aW9B9f/miuUVEbeZ/8jolo9NBolo2G58/c+2ry3oPr/wDNBe0empaPTVJb0H1/+akt6D6//NBe0emkuZ8SaYQqisGqIjSYgM4WRgyc7Y+empb0H1/+aT5pwLVlVb2p2srdhXJVgwm5GxI8tB3iuK6bLKi1ntJ/L+HcD8pEfqNI8Pzy5ULIEJuLA5tAZQu29wdT+unOO4HrU3pPMEiSrQcBTgx//SdDfk6l6j5BqhQQGwLDIt7cTifW0aFKj7Rp2lqTqpFUntJI6TqpMDyyT+kZ1p8fx9OioZwbT5hSYAEkn0x9fLSa8kEEFmIIqgdwwKzBmjt8iMTO+Z13mvJRXChiy2qy9pU4YAHxIwBxuIIz66AvBcwvqslogTB9YIA+s6SH2jSFZqbqhWoxNpJUU3VSSB8MGZ09wfLhTYuskkEZb1IP5fbS45GLWQs5DLUTxLharAsBC+RGJn3nSJPJjh+a02fpiWaSDCGBDuuT5ZRhO2PcaFx3OqdPqQjuacBrVxJtxO0wwP19Dqq8kAdWuaFcuFlfEzMxzZcBLRAIkAAzmecbyTqszs7gspUQUFs25BskwRIDFhnbbRR+K5rTRC0EkFgFjJZULkfQHS/KebmotRqqCmtIAsSCN0Dsc+QB11+SSxYu5BJa25YDNTNNj4JyCTvE/TTC8tASokXLVEMC38ip5DGAP76Aa88pElbagYBTaabAm+620RnwMT6AEmNT76pe/kLbDdcWZYI9ZEf320nwnJK1zPWqk1OwIylZWzqZ8AUkiowPbt9dNUuSgMGli1wYksO4hmaTC/zRiMAabL07U59QC3Q5AW5opsbBcy92MG5WEfynTHMOYJS3VmNpaFUthYkmPLI/9ayuO5BUa5aT2LUBFWWmQzu5gWbi9gDI3EzGtLmHLzUIId6bWlZRlkq0SO5TG2CII1L0QGhzumVUsrCQlxCkqrOoKrdtJkD/AKl9Roqc4oGYaYt2H5kLj59gnQKfIwsAM9gKEpcsMUChSTbd8KkgEAxtkzyh9n0SIuwHHiHxk79vwAlV9AYzq0h3geYU6s2A4AMMpUlWm1gDuDB+h0o3PacgKjsS6qVtgi4NDEHy7T740zR4C0kic01p+LyW6Dgb9x/trP4b7NhPC7giyDNMR07rQAKYXIYgyJ+WmzRnmvNxRLr0yStI1JjGDEYzOpU57QUZuBBIK2G4WhSSR6Qyn/qGr8fyzqtcSyyhQhWEEEg5lSQQRiCNzM6FxPIw7mpLKxYmQVbdaakQyER+Gp9ZG8Y0/P7+xszxXM6SBCZa9Sy2KWkAAk49iDoS86okYDEytq2GWuBKlR5ghWM+VpmI0etwVzKxEWqyCD5NbPlv2iNKvyYSGDMrKECsGEiwOAcqQSVdgZBHpGg63PqA/PgS3YxtFxQ3YxDAgj/1rtXnlFRLXAgsCthuFoBYkekMp97hG+q0+SABxLEuIYlhJ72cnwxJLH2iAANV4nkYdzUllYsTIKtutNSIZCI/DU+sjfy0HeI5/RUMQGa0MRCmGKpeVU7E25+Wm35hTVFdwUDAnI2hSxB97QT+mlq3JlZbTMFmbDDdqbUyPDtaxj3j5aJxHLOpSSk5LWFTdIBNp84UCGEqQAJBI0AeN57SSmaigvCXWhcntDQPQwQc6vw/OENVqTIykOFU2mCTSWpBOwME49vfQn5CpRkloa/NwkXiIHbsqwB8hM6Yp8shriWZrxUJLDLCmE8lAiBPz+mgGObgV61J1CrTQOH9QAC/ytlfrqnK+ZtV6N1NV6i1CRMlSjhY2zvonFcnWo17TJdXw0eFbbfDlSNx56twnLLHDgsbQ1qlhAve5jhQSZxk7aC9Hj1LAGLWZkUwcupqXA+kBN/POh0eeUGZVB8UAG2BLLconyJWD+o9dc4jlAei1ElgGcvcGhgWqFzBtxkkbba7S5SFqmquJIJQWxIUKDJS4doGAwGPnpCpxnOaadQBHc04DWrIk24naYYH6+h1zXOI5QHqGoxYyItlQBt5hbiMbEkZ+Ud1w9X+XPuO3p308e8y+fPTCDqMgkm3qMUQmD4iPaSJ8xjOmeVMTRpE3TYs3+Lwjxe+px9dKVN6rlgqCTBYn5ADJJ2A0RaSkAy2c+Nv967uJOtWoTw9NqqpW6dMi6pbas/CsiWcgrjcDO0FTiuIpzU6bi2EvN7b9ZLv2ic0yZK7eG+cCBtUeK6dOiDSqsGVBcrLALQAILhvoDq1TmYUsGo1wVAIFym65wixDmJJxdGx9DoMnheOpL+yFqyrNaoFHVhSsVgLZPek2hTHpETrV+0hUIjO1OwP3LUfpq3awAnOQYIB9PWNXq8yVYD06ymAXzPTBYqpa1iIJB8N0AEmBolalTo5SkxZjEUxBOCcmQAIB3I9NyBpRbkBqHhqBqz1Omt0kkzaJknJM+un9LcKyVEWohYq6hlMsMESMHIxovRH839R/wB6tEo7fqf/ACOiaBRpCPPc/EfU++r9Efzf1H/eoCamh9Efzf1H/ep0R/N/Uf8AegJrF+1HE06aUmqVRT/GpxL2T+Il3mLgFnG2tboj+b+o/wC9J8fxaUoBFRyQTCEkhVi5skYEjbJkQDoK8wa0dYHFNwzR5oVAf5wpu/6RrI5hwqKeLamqqwVCrAbFpkiPXzjfWrxfGLTQ1AlSopIyjDAIWD3MszPlOicPxtNm6bXU6n5Hfu2nEMQ0DJgnVRicfzivTdqXUpi1nAqPCAkJRZFOCJPUbAgkJjz1oc3qLfQ/aSq0SrXS0J1Oy0MTEiL4nEgeca0qVSm11rhrTDQ5Np8wc4Pz0jwXOKNUKylrWYqrXggwHJOGMCEO8aisOrzboip0qhCl5QucELQpELL5Mk4UAswkg7nRqvP3lh1qS4VolQEBskMT+7cyYvFrSII16KnxFJiAtVSTMAVJmPFGcx5+mh8bxtCkGNWqEsW5pcyF2mJmJxoMOjztiwmqlFWMh2QC5ulw7KpBO5vYwDJCwDidOfaAN1FpgsBxS9KQSLSDcSCPCekahn1Vdai16RNoqAm26Opm382+3voI5lw1zJ10uRbmHU2EkSc4yCPbQYKc2cIarPYzVBw8sQFBpK/UMt2rNW9ZgzCxuCNT7O8wq1+9yAvTpm0CO50DMZOY9B851qCyAbsESDecj1Gcj30vxnGUaSl6lS1FEsxfAGPecz5DQef5hzWo1Kqq1headW9FADUbVJU+o2t7t7pERp/m7GkaCCqUUo629qh2Cdo233IA9DrR4fjKLuyK8sPK85FqtK57hDDOjX07+nf3xNt5mPWJmPfS9LK80/Na1JUQ1EgrSJqNCBA6VZyZAF1NQC3543jWhx3FunDUuJeC1OGfpyQwIKmPUdwaPUDWpUrUlMNUAMEwakGAJJ38hnXOvS7B1BL5T8Txf8ue7HppeWZw85Qq1aZelJZuGQ1CTLSauV/5gp63b6Ku2NNUOZ1HqJTp1kq0y4BqgAyOnUZlBHbIKrnyDRvnWz16Xd+IOwS34nhB2LZ7ceuuPxNEBWNVQH8JNSA3yM5/TS8q8kvNG6NBGrhGu4YLTIlqis1Es35jJLLIwLTM60+X8yZvxGqK/TYLUKQUhwAYIPwsFMMAyiZ3B1uGtSuKdQXBbivUyF9SJkD31x61MBWDFgzWraxMn2z5QSfSDoEedURR4TiChYdhMklohfr5eWlPvplDOlReIpghQygZZwQqyuMPaPYVM7Tp3hub0Xp06ilyKhIAJKkFVZiGki3CnfG3kZ0Tjq3DgguwLUypi+StxCgxOB3b6APO+FDU6PUCswqUwTHq6hv0PppDjOPqoaopFEWklRwLZnprStHyyQfPaI1uNxNEKrmqoVjCt1MMfQGYJ+WqjiqUkF7TfYLnKy0AwJOdxoMuvzKojFKlZUQOAapULANMMFz2glpAJ8sb51n1ePqvdNaGZaJRYAB//IKmoo8UEBSRPxAemvVU2psWVXkrhgHJK/MTj9dI8FzWlUUsb6YCh5qNaCjSA0hiAJBwSCPMCRoFF5lWDCmSGL1Gpq1sQVaSTGJ6UnyEp76vzKpVFeqKYUj9nBNzlY7qmRAOfpsNG4ji+HWoDDM9nayktKsKj9pnzFInG+NPVa1JVDtUCqYhmcqM7ZJ89SzhZXmvvOsFYU2VbKTPJWSxSjwzKD8y7T5xG2jVuc1r6oFSilt0q7AFFA7XIiQDgyTbDe2fQU3RjAbykd8yPUQZjI1QcRSxLgXGFmp4jJiM5mDA31azpnDmTNw9OoGBJeLmAjBYT2kgjHiXfcRtqnC84J4WpVLhihi9bSswuQQbWUE+IxGZGDrWWrSLFBUBcbrfkYnImRjVzZ+b1+M+W/n5eeisjgOZ1H4arUUq7U2MFYa8La2CIBJBIkCNJ1+eViVKPSVagLUryFFQXkKASCWlQGhc/iD01uV+LpLdLyUALKHJYAxBImRvq5r0hfNQfh+P8Tw/82e39dBjnnFSkvWqy6GpUSxFyLXYJ7ntUz7xtqa0qz8P2VXqJjwMamMjcGYyJz89TVkl7z8sfapbdY/PnGRzjhTVSFcqQGiULAkqVE/KT9dNcPUtVQ1xIABIRs/20vzdqsIKXUy3d0+ndFrHHU7d401wVYOiOCSGUEEiCZHmBgHUUbhEuXhmM2okxafEUAU7eSlvqNc4rg7lrSqOajqQroxUqtkK2PUHMGCZg7aXqVqiU6DLUIWKQKhVIyQGNQnuAtPbbEEZkbC5fx9aoDLVKZqAslyUyLQ4B6cGbrSP3k5YGN10AqnIiyLTtVQZDWNVQIpcuFVVAFVRMANaBnEG3Wnx1SrUW1aQj4lcsoYQdmQEqZg7Gcj3GbR5jXZHPUINBCxBVZf8SqoWpjtIWmJsjLEjEDWtz3jzSpG1lWo4IQtEA2kkkeYAEx54HnqXo2Ny9enSpoxLFVCk2kTAjby0x1R/N/Sf9apwNW+mjzNygyPOQNH1qpOgKNUR57n4T6n21fqj+b+k/wCtSjt+p/8AI6JqKH1R/N/Sf9anVH839J/1ompoB9Ufzf0n/Ws7mdFy61KUXBGQhwwENabsAyQVHbiZORrV1lc1rVOotOnU6f4b1CwAM2FAB3Ai3ukxnAgjUWOVuFmg1FScWgEq3whPb20PiuX3O7+bPSYG1pApkE+Xzj56tU457KTqADUdZB2zSLRMEjIGddo81qfstKu9NTUfp9iNiajKoyQMC6Tjy89avP1ZA+zvLOgO4GQi0wweq9wWckPhMmbRMScnSfEchZkKSMoVyreaV19NvxB9Dp0c/YCXogDvGHu7qbWsNh24MNvjIGicRzsrUKCngPYzs1qjtpsM2kAnqYBIBtOZganaqjlsOzAATWSoO04C01SNt8H9DoHNeWVKj1LLVV1Mk3m5ilqytsJGO9TkCCDvo33nWPBtXZUWpmAhuHjgeIDJGpxXPXp9hozVui1S7rFoaZRC3nHg39oJBLjeVVqtW9ioElsGoYnh2pW2hQrd5uvMkjECBpjiOWtsqIy9OmoBNSnDUnLLBVTG8g+VuxnDnHc4KUqdRaZLVIim4ZWHbJBVVd5A3FuPONKf8RsQSlAkFVZASQzBghJtCmVUNkpcRaZG0hbiuWtUoUqTMLlIvIQgFSCtRRAG6MQDAzBgbaWqclc02W4FitRQSrbFVWnOPJUE+860KHPAy3WjxqnawYS1NXkGMgTH6aBQ5+5gmhaCtNz+JJCVSVXEZYEGVmI2YnGgtT5eer1WChjWFUwGO3D9KJtE5+WNDr8vqNxS1ZFi1A48YMdIpbYBaTcSb2JMYgQNRPtKSTFB4JApsQ6hiaioLmZAqyWBFpfAbzEG6czr9Hi3KJ1KLG1C0rikjeICSCSTtOYxofpaty0NUdyAbq1OoJVphFUem8gkfPWfW5LVJABWy+7/APYtscQ1XZV/ElSAAxhSCQDOnaHN6oqMKiLZeikh/AWpq2JAvF0yTG4xvAaX2jqVCq06SzegNzOAUe+CpKC49h2BXaGPkn+ilfkz2p0yoZVcHDLddXp1N7SVkKwuiQWkaTr8srU6TIKQrGqlRGBuYIHqOwy+X8cMDE2g+2tfnfM61NnVFS1aJqXT3XAwAFItI+Z1dOcVCxpCivWBYEGpCwq02kNbJxUURbvPkJLQzeI5AX6qkSHDlWL1cM1I04NOLCIJ7vT4ZzrZ4un+5KqT03mLSMFGQxjyun5A6Q/4nwWNIhSqlJJudmsgKoUhgC1pKliCD27S7w3NyaJqvSZLWCsGDKIlZYXqpKgGZKjY6DJ4jkLlKSo4FtMrUBVoZug9NWXGD3QZ3AHplipyx2DUytMoagcOQxYzUR2Ui2AIBEyZhcDU4n7QMyTSQhw6yCRs1dESfTqIxYHyE+ejrzqoQbaILIGNQGpAAV2XtNveSVJEhR6kaeSgVOWurOyLTa+8EOGAAdpJEKZ91xOMiNJ8fyGq1NqaOCGVlkmohkpTUMbVl/CeyQMzmNbnFcyb8EUqYc1gSLmsAAAOcMdj5Df6hUfaAlWcUoVVTxPBLPEKAqsSRMGJO0Bpw6OxOWcK1OrUYgKhmAoZpJcsWyoKTPhBYSSRHnj8NyGoqKIUFAnar1fxChOS9oalgmAoOfXTifaUsLlpMcC4MSqp31lYsbL1E0tyvmshcnRG+03c8UajU1DQ6hiCVBnNvTCkggEOcxgaAVLlLU2Woq+DusBdyTbxMgM+TLVRkxsdsDRuKpPTThzTpms1JbCpBEyoBYEjBERtkMRjTPBcbWapXV0VSiKVUPcpJvzdaDBgDK4g7+aHCc8r9jVKaENRou4V8KajupKyst5GDEAHJO465A4fkTiiiAhGCqpAVgAnTsqKIGMGRHmo0y3JpFXw96uq9rYuqs48sbjbzGm+X84LuqFIDLIZmgsYJNotCsABmDI/LGdZ1Tm9cVqisQB1VVACGAUPwytMoGuIqn4iB9NJzU0vwnD1BXQGlFOlUqOKsZbqX4jcGWzvNs4wNW43kpeozhoBYQCreBo66nHxwCPdRq6/aJ7Op0IXpiqfxM2fFi3x+YXYjdgcae5nxFQNbT+FDUIgEvBHaJ2kT+tvvovhltyQlnO8s7I5er8bSQacWCAYnMwDA0UcvqAAW0j03uQkP3yzND9vZvMi7uAPtrvHc5rXP01QoOgUYMbm6tUKQQRAFs5kkf8AaVPtIwgdB2YXdRUD1Itdk7SqG4kqSLrMf2J5X4DlltQ1agWWDyoViFLurECQJHaCTAk5ga7p/i+MqBxTpU1drbje5pgCYGysSSZxHlvqa5+16Xs+121LYyeZpTsms6KoPiYmnB2wwYESDG+ZjR6KEKoQoFAFsLiPKIbaNJc7osTSYGoAjkt0wC2UYDBB8z5Z/SdOcvuFOmKkB7RdEbwJ2x9Ma6I7QoUSKHUamKrU0tUkqXtEr23DqWkyJBgmRGiV+B4depe1JcBnliLAWLBh3fhS4LSsSwncazuJ4OowpdIkXpRDfhhhFN78NIsIBMyDMiMzrn7BX6lZ6iAMy0mvQ9WXSq7AWkKWVQVwCDG2ToHqlLhB0galATmnLxfLAn4/xpcg5nJnfTfFUkpqWr1UsOCapwJ9yYE6xeG4SuihvxeqxcraqhO6szgOpuKCDJ7ticyNaPNq3U6Zp9TseSyISyix1kBhDSTGx3/UNG2pQpwqhCtoAtgYjyjO0avDeq/0n/eluTUynD0UZQrLTUFfSFAjz/7nTk6UgNENG43Pl7n31eG9V/pP+9Sicfqf/I6vOgpDeq/0n/epDeq/0n/erzqToKQ3qv8ASf8Aek+ZcLTcL1ikTAmVkti2QwuDbW7H0On51lfaEStOEZyKtNu1SxAWopY427QfnoC8U1NBdVekio4IL9oBtAG5A2MRq9DgVFNUW00xDKMsMEMsEscAgQNhA0Dmiza0VJWpcGpgFkPTIm0g3CCVIg+L2kIcKa4CoabrLUm7cKqggOMGF2yv83nnQaz8sQi0qhBuwVPxzf5+cnS78noqLmtAXuYkvmAJLkt3iFHikYnXn+BHENwyNSPEXNSXqmqzPJvpzZ3Az0+p+7K7r5xDL8BXNKoC1Z/wKgQdySxuCghnYsY2vJ3E7CCtt+X0+maLWWVSexpIYmWIEttgm0Y3xrh5NTtj3uuue6Yib7r/AA432xtrFrcO5tINanSU3F6rmUbo1wzSxkKCaY3tmYxMuV6VSvwNUuHvrKWFNWKlRAtUEEEEgAkTux0Rp8Ty1agVWCwvhi5YERHawwRgjY6WqcloqLiFVVXBl1CAAZXuimYAlhBxk6z+K4erFUqa1rVECy1Q2UxSQkhVZXJ6gIOQ0kyYkFKpw/EtThhWZ2oMhBJABseD4mRiTaIaWmDcRoPQpyWkCGCrIAA8UYmDF0FoJFxzk50YcuWIhPCq7HZCSg38iTrDrLWpOaaVHmpUKIHcsQjUqZeotxJNjhjna4j0Gjfata9qjh+pKoxUreZcRaCFdRnJl5XGxnQaP3NT7hasNuO6Bm7tF0UzdDSsZAO413huX01WpSWyHzUBliSwglpYkkgbneNZdfhuIFzq1W5jVEX4tkmnaCbVMbH39NG5TwpnibesiuFCNVZi3gIJBYlwAT8WZmMRobaKcsUC2FIkE3XMSQAASSxJwAM6AnIqQBAUZtzLz2TZDXXACSAAdjG2symnGNce9SyNUEsIWpb01p+kHFT0uB12nwtRnVUPErRLLdfUcNNlW/JN4WemMGJ28zoNjjeCRjfUK4UrJlRDRIPcARMb7HbXOI5UjklgJJuLLcpm0KcqwOVABGxga8/xfC1igVxxLvFMJaxiA/ffm1jAk3CSItzps8LUFpqHiGRmqlwlR7gb/wALwkEIEkQMeEn10GkeSUvyJFttsNaBAHat1qmABIAOBnRV4NQpoypDAyrXMWBwxJLFm3iSfTWLQ/agoRxVLkoxZSDC9IKwmbbuoCSuxLTtOlg1Wkoqt1PwwQpdmmqbqRth2LAv3KFJORIxGmx6McsTJtTusntOemZTz+E7apX5PTfxKvnMXLNxlg0MLlJ3UyD6aDVFVKdAku5V5qhZYkMrgwPiUOwMeij01n0uG4gw7GsGU0oW8xms3VkAw/4ZEzPlGdNjW47lK1Shc/u5ttlIkQcqQRjGCNzrrcqS0paoXt8IKxaAFghgVgAREba85wCVnpKaZ4mWX8Rmdjnq07Skkgdl57fLxZjTHE8BXarUW+rZBVQOoQU6UCXNS2b/AIrb584zqaXbWHIqVtoVQP5blO7schgcl3Jzm4zq/wB0UwWNqQwgrBtyIPZdaCRiQJOsXhuGr30bWqoirTtBFRtv3gcmoFncd6sYItJO1Pu2r06fUPENig7jqOSHDnqRBnCwSoxiYnWscs54y3+A5elO407e/wATG5y1sjJZiTG3tEeWpR5Sii0BYgLm44UllGWwASYHlrF4ilX75690N0LXYAP1akXwYIt6fjlbQR6g3rDiDKHriDVllkyGrK1OIYFh05HaQQJAgxqK034KjRPWY06YX4mJCie2YLWhiDbdvBidUqUuHLrL0b6ncmctlGlRd3ZpocflGl6qVDQoErUVleSRNR1EOAwDSWJBAIYMQGPmJ0pw3CVAthpNLmkQ0CFCVJJb8hA749WgaDap8BTZAF6ZQpYIBIKegN2Ro78MS6vcAVBGBuDEg59QD+nz1m8LSZeKaBU6ZEAElUQBVgKJsYEjyAYd0yI1nrw/FdSqS9S6XtADhfH+Cbi5SAIm1BgNd7htjlKTMLso+KO1rlxdBtbI9Plqv3bTc3C0wzZW4SSxLBobuF0ypkT5awuK6paw/tJqdAkdN2A6t7QTBi0nw3dtuD5DRqnDVQGDCvk1DT6LFe81XILQRIIKkXSu86DT5lysVyp6zU2WRdShT5SCTJiQMesamkeE4WqOISrVFQkLUWQzWyWpkYBiCA0SPIe2prNsn6JlbmDlELqiG0EtcSuAPKFaT7aJw9IFVL01ViAWUQ0GMiYEwfONc4ujetpBi5TgjNrBo+RiDot7fk/uNaAE5mKfQpdNDdTp7tazXG02LB6hWLmyIBGmavMYFWaKgpVWmoLAA32WkmO3LbCfqY0GjyzqLTeWAanSDL2mQhuWCcrknb+xzpj7tf8AGl5FUgkFEIEBREGQwKiCD6nbQJL9oEJVAlENJDhqkAW1TTNpCm7uB3t8gYJ1o844xaCq1tPua2ajdNVwTLNBjaBjcjSlPkCqtiFlBUrUACi8FixxHZlmi2MMfYhmvwdVypZwCjXKVSMlWUzczThj6f8ArTQb4JhUppUstvUNaRkSAYPy0bpL+UfTQOBodKmlJQSEUKCSPIRo9x/L/caClGmsbDc+XudX6S/lH00Oixjw+Z8/c6Jcfy/3GgnSX8o+mp0l/KPpqXH8v9xqXH8v9xoJ0l/KPppPmVfpBCKYYNURDkLAZws7Gd9v7jTlx/L/AHGkuZ8I9VVUMUtZWwA0lWDDfykaDvEVgjKLAb6gT0jsmds7be+gcz5rRo9pW5pUQEaBewVZYKVU52J9PXTFXh7ypMylQNiMkJGfrpbjuVNUZiHdFdkZ1W0yUIIyQSAQAD7DEaC7c34YXSYChiSabAG3xWsRDx/KTsfTVafOKDVEpqrEuzL+6cWlQD3SotkMCJ9dCqckuFjO5QXWL2i24Eb/ABQCQJ9cyc6P92/i9YFgb7iMEGaaIR7YUGfXQR+Z0kaqKgCin5wWkCmHZiAO0AGJ+XmQNQc24ciRce620UnLTAbw23EWkGYjO+g8XyNXaq/crVVKsQRlSllvynuHofYkEtTlhv6iMyvO/aRFoUiD5G0H1kfpoL0+Z8O1kMve1q9pySheNsdoO/mI3xq9Xj6CoKjEBGQuDafCFuJ2nw5jfWfV+ziMpE1BKWyCszdcX2i6f09taHH8CKqopBARgwgjMfCf5SMEeh0C3E86ooyiJUgyVVmiFRh2qpJ7XBny03R4ui1oUg3Egdp8hJ8tozOxkeo0rwnJxTiCxtvAkjZyMfJVUKPYZnXOW8sNOo1Qj4VRADOAACxwIZoUECRCDOgKvNeHLlJghipJpsFuUEsLiLSQATvsNcHNuHie6ZAt6ThjIJEJbcRAJkCMH0Oll5KzFxVdmptUdxTFoHcpWJidiTHr5+Wpw3IhTAsIRlIIZadNPhKmQoAaQT/6jQ2M3POFBAk+G8xSchVLMsuQsU4ZWBuiIMxqUub0fjW03suFZwAtRqYZmCwgYr8Uee8aV+4XveKjBHp2OO2WJqVHczHbN5GNpOMDVm+zlO/qWgmTNyI+DUepALA2wXYSPL3AOhTHNObU6LMppklaRqTaQsAxBaCAdQ864f1gCQQabqwINMRaVn/9i7/mBEiSCcw5d1WuJZZQoQIyCQQfYgj++g8RyUPUaoSwLNdEj1oH/wDxX+o+2kNr0+b0SwAHaQclSDcHC22EXTP/AG9M65zLm1Oizp0yStMOTaQsFrfFBE+carU5IpqCr3BwSVOO0swJj2IFpHmCdG47l3UYsSwlLSBGYa4H2M/99PgfENuc8OI/UR03ukNTWLLbpl1+oIkSQxxXHUkVXaArScq0wFLeGJmBsYP640pxfJQ7s8mWmQQjrkUQQQRkfhD6nRavK5p06dzfhggMbWmVKm4EEHBONNA9XjaKoKhDQxgDpvcTnFlt84Pl5a43MKAEkgCSuVIyELmZGIQEyf8Avpc8p/AFCTEzlUYbkxacBROAIiBnQD9nwRaz1GTPaSskmiaTEtuZUz89Bavz6gjLcrBCrsWNJwVs6cypW62Hm7YRrQ43iqVIBnBg+a02eANybQbR7nGlKnKmcHqVHcmm9OYRYDhAcAb9s/qfYCnPORrxIVXkAKy7I/iAFwDAgOIw0Yk+uhDHH8fTpPTUpIqXZVS5wAcKoJMz/bVl5hQJQD4wCrdNrTcJHdFoJ9CZ29dV4vgWY0mR2ptTBAgK0ggAyD8pxGkP+GkvR8my3cIW7REXRKqckgRkn1I0DnB81pVaop01kGmXuKMmLlAi5RcDJ7gYx76o3POFE5OLtqTnwNa5BC5CnBI289W4DljU3Vy7vZT6aqbQAsgzgSW7QJ9ttQ8oER3eCom42qsGJ+YjGgvV5pw6sVPluRTYrMXRcBaWj4QZ8t9Wq8xoBrZXC3GFJxgiIEEwRiZyMZ0FeVGR3N0w4ezt8Q994u7o9fOMaX/4cTp9M3EQwk2ney2QRBtCKokZAzOdBq8JXp1ASg2MEMhQg+6sARgg5GxGs5OeUph0KwHYkIziEqFNwNzExvmM403y3guitqqoEkkKqIJMeSx6e++lm5P+VmGHUyEYEVHvMgiMHHuD+ugbq8bRWn1W7U90YHePDF39tTSfEcpb9nFFCblMq1wWJJkDtYKACQBacfXU1eNpc6Zv2gqQKYkAFjIaoaSmEbdxkeoEZj9dOcpqFqNJiSSUUksIJ7Rk++kuJ4m0C4s07AC7YTtrprkpcrmCsgz7SNRT3QVxwqywYqrEhmXsQKTgGMsVX5E6T43i4Xilp1QxFamCWqHsRukKmxlFALbRHtvpz7Pcap4fg1dmNSrQQ7GCekGMkYEwce2jrzGh3HvGJHae8XBez8/cQP8AqHkRqQlzMsM8W0rJWxFJQdWp+IwrMD0zMsYCwDdFwUYM69Dz2rTCL1GIloVQ/Tva1oBOMRLb/D57ao/MKQCllqj1lGFgutBb8omc+gnbOq8EOHNQolO1iCZstDBWAaDHdDEfXV8B7lqEUqYL9QhAC+9xgSfed9M6T66CqKMtdaWAgxAIBztORjfTHS9z9dBKO36n/wAjomgUaeNzufP3Or9L3P10BNTQ+l7n66nS9z9dATWJz+oodBVcpT6dQyHKd4styCJIUuQPYmMa1+l7n66U4/iadOA97EyQFBYwviaB5CRn3A89Bn8zQtwpZywcBCSGZDJCT4SPfVWrVKVV7GHTV6SFGuY98KYJPbkg7GdahrIIljDsFWMySkj+w30xYPU/XS8ow/s/zd6jKrtThqYZVQTHZTJuNxKkFjhl2K5OdCbmvEZIakJWsw7CY6VQKAe7NwInaI1unpiTcBAk58h5/LVFr0ygcPKlbgQdxEmPXGlVlNzeoW7XpAlwgpEEtlR3eLIzdtFoOfPQKn2gcr1VVYCtAPkyhL5MgQrMQQdrGyNbtJ6bKKgbEbzET5H0+WpxNanTEs0TEZyZIGB55OlRn0OZ1P2erVawlJtIIIiAZYKzARJkBth5ToFfm7iQOI4fCMwe3DkHwjv3XEwSe4YGtTieKpU5VnghS9oObQcmPnon4cDPbkzIgRH030V53mnPmNGoshHIqBlBIZAOHeop3kGYzoo5o78RQU1aYmvUU0hIaEp1QC2cgwGyIysep9CKSnM7++4/96GWQSxaPKSd8eXrjQYtXmFSlWrEsDS61pUgsQBwoqSM+q+GMyfPQOG+0tQKzPYwUgGImXQlB2u4kuAsTm8fr6GhURwpVvEoYCYMEYMb7avSRD4TMeh89MDG4HmlZq/Sbp4a1hhThAbgLixk+Vux3xkaczZa9ZRVRorqvROXhqdOYziJLREYb9NitWpJ3NUAyFm7zJgD5z5aKyICCTBOASd/loPMUPtFXNMORT77Myn4ZYMSGHUjyCgsVydjtppOb18E9KB0rgBdd1KpQkMGIXEGM5kTrW4itTR0psTdUmB6wJJPtooZI8UCQJnBxIjQI8w5m6VhSABLgMmM2i41fPyAUA+tRf1zeC51xFTpgGkOoyicNbKVGYWq5/KIJI88a9HCzF2fScxpUcXSvsDEnBNuR3B4JIx8Df29dIB8q496jOrADpdrwImpJmM4W21h/wA49NY6faCrCN1KJvpXkBT+EepSU392Qgckzaew7eW6BSo07gxCFhkMWku4Ek5JljudV4fgaFMl1OamLmqFp9gWJxPkNBmLzly/T6tFVDMOuV7GhEYIBdF/cfiOEON4U4rnlR6ak1KdIlqIsIIZ73SSpkEAyQBB2M+3qDSSIJx6TjXIQ2m4Z8Jnf5eugQ+0PFWJSYVFpzWUXMe3MjORPyneNJH7QMqvc1MkITTIwKhWoykqJyItwPXeNbFVadNVUyAWCgb5O2pSqU2VWugESATBAidjkY0hWfwnH1F4fiahcVXpNVgARFrNapgk7AfpoT81bC/tPDxDHq29pIC9sX7ibjnaMeetuxQLroG8z/edAL0pCXfCWGcQCATOwyRoMfh+bcRUZf3aB6ipaVJKzw4qkkyMhpERtGqU+e1iyL+GMJMkKGlmVisvcPDgANnGtziq9OmhqO8KAWmdwBJj1x6as5QOikm5gSv6RPy30GTwvOKh4avUuR6lJC3aJWencACGa8TncGCJA0Ovz4moFStRRDVKB2FwIFFXwbgCZJ/TWxWq00IUtBYwADmTPl+m+h8QKIKXbyAo8wWxt/70CnEc3deHpV4U3QGiYJYEUyvs1QoPk2k6vPqgSSUVg/TJtEXqhNTxOoAuwMk4Iz5ehKrIBbJ2E6DxFWkqlncBVOZbYkwJ9DOlGbyvnFSqaS2qDUprWkAkCmyDEzluqY/5c6mtSnwiBmcTcwEm4nA2j0GdhjJ9dTVymHl+OoswFqm4HBlkjBG4B+mpRoWURTAY2pb4WzAj00zx3GvTqNsUFF6gWMypXc+8+mi8vqPe1OoweFVg0W+K4EQPKVx5589SFgXJ6VX9n5dai20qSF7iysJo2kBQhBImckanEcmqPTWm4QrSACCX/EtqU3F/b2AimAQLvEfTLb8RUp06DK0KRTEWyDJAcu2yC042z67aJW42sBXyCUqqoKoTajCmWMZLEBiZ/tGNScEmJgoeW1emtIBAoYsAGqAUzeWAAttrKARCsFAK/KGadOqtY1mS7tKwjMSwLLaQtSFpQBkKxkn2Gm+Rcaa1G85Id0kqUmx2UGDkSBq/J67vTJqEFg7rIFo7XYDEnyHrqqWJqtxFOr0wqBGU3MbwWZD4VVlPh/N561OqPf6HV9TQAo1RHnufI+p0Tqj3+h1yjt+p/wDI6JoKdUe/0Op1R7/Q6vqaCnVHv9DrM5nSqF1qUgpYI6EPcohrTMhTMFdsTO+Na2szmnEVOotOmwQmm9QsRd4SgAz5EtJ88e86iwM8JikqnFJ1JkHIWnbjG+RpTmvK6j1GqUmCmA1OQ2KkWMTA26eP1OmOP5rZw3VuSm1SwKXItVnCgEyRIWZjzjXKvOGbgW4mlYzimxwZW5ZDZEyAwPzjVu0miNXkr9cMLBSU43Bs/ZzTClQncbjMlziPSNX4fllQBQ1KifwkQmWPTKhsp+HmZB+GM76Z+/bFLOrwhdSZUlygN2ABiRjbPlqf8QnYUHLAMSNhCBCSCwF2GjbcEe+gRrchYWdMIAq0pQXKGZFrKxPYfzqQYM2eWDrlbkb2hFp0mE0jc5csnTZSVXs7gIJXK5Y41pVecOWp9Omem1UUy5I9JPbuB8M7z5RnTHF81sZ4plkpx1GkCJjYbtAIJ2wcScaqcE+dcuaq7FVQh6LUyWuBBJBEQpkHIORHvpXieSE1HZVSwklV7kif2aDhCBDUmMQQceph3hOa1BQatVW49YoEUjbrdJcmPmZ9/lrlTnpCsWpMoAqCQynupgkgexAME+mQNRVa/A1Dw9JVKLWp7EKQokFWiFEwrEgQASowvktX5Mwusp0qikMqrUuAAZaag4Q57CCPSM6bf7RBbrqTAC8KZBuKVVpkQNpZhHtO2iVubseGq1VRlenIgg5Ig9sxcCDvjM+mmMjKo8gcHuPwiHVmBQigKeBZ3CQT4h4jjWnynhGRy5p06Q6YQLSuIMEmT2rETAEeZzox5q13T6R6swFuERbN13p5REz7Z1WlzxSJsYQyKQYwXqGmR/0sD8/LTKMajyStksKRP4ZjIDMlW9jApgICCQBDRO53079p+XVa4inYPw2XulYZrYM2MSBGwt8t/KcT9oXtUrRYConUptKmV6lJYI3VmFQEeQ8yNtN8Pzao1ZaXSCiHvJaSChSIx3AhwfL+2ih8+5b14gL+7de4N8QUehxg6S4/kjNUZlClCzQksgg0qKT4GgjpsIA2bfy03xHNqwqsgprC1lpjuywakXMyO2DGc41D9oYAPTbMTJChfHMtsMrGTBMZGh0U4nkJKkKQrFn7yGJtag1MAmJY3FSRPlO+i8Py1v8A8ktSooK1JUCIXg2ioDc1gibgJAOBpnm3MalOvSQYpsssQRJPVpIBkHH4kmM/TIuE585RZpFjFMMwIAuqAWwPSSJ9J89DpPu5m4fouEnqq8AGLRVVyCQi3MQDm0STn10CpydhcFp0nDCoAHuAQPUZpXsO4YSMeEZ07xnM6h4VqtJYe6yGIwRU6bZyDBBj9NVrc+sQ1GpMUh7WBBLFFYkR8NwVo+WY0CVflFUjpkI6BmaWZ1Z7qLIQ0Kbe5twTj6Ea8jqFgXCkQAQpKWRUZ5BFMXMbgSRZlRvvrT5/xdVaCMvY7VKYgKahzUXt7SsT6kxuPOdK8n5lUfia1MkdpOLiwiFAPhx3AiJA8W8TptMcNPjqZqCn5FaiscNsDmMZOkanKQ1ZqhVDdWV8qSbVohI23uG20a0OS8Q70rqhBa91JAtHbUdRiTGAPPSfFfaFUeopQkIGMqQZKLcR6AxsJnGY0ULiOEKcMqBQ/TqXBLWKlRUJVcKSIBEYMFRrPocrqshZaaU7mY9MgiAaqN5owUkKTJWZIwDtrrzpixpiieqCZW4RCrTYm7z/AHiCI3J8hOq0edEcLw9V1JqVlXt27ihczExAB2nTyMWv9n6xoVKdlCo1Sm6DqF4p3VKrLBskyrqDAXNMb+Xpa1OatJxsgYHBnuCxGPbSg+0aW3Mjqd7SINtjMTHoAjj3t9xrlLnxaFFB72aADgeBm8RA2CkEAGDHkZ0CnGcpdqgISkR1jU6jXX5pssRZuJibvCNtVTlDhqfZSIWqlQ1DdeLUCkAWe0A3beWtOpzVinDPTQFa7LNxtKqyM3lMnG2k+G+0LCkrVaZuZQVI+KXCbCSuSD54PrjToovG8svqPUAW4vSKsQ0gI4L5jErI95zrOPI6nTC2UQUp2Yu/FN6MC/Z2+En4zLn9dFftDOei/aAXnEAuySJgsJFw2ke+NG5pzN6bhEUMSaYNxtADuykjBM4+WngC5zy9q3TtNm61Iu8JAbtxkioqbxgtqaPzbnHRkCm9RoBVViWkkGJjYCTqaf8AUnwak9rVv1Z9Tlqmp1STdBXxVLYMSLL7CDA8vfXeD4DpTYQJiS17nGAJZyYHkNhqamjJrhOVo6UqjAXCmnmwBtErcoYK8Eki4GJ0ZOTIDUIZ5qGW/EqnIiCO/sOB4Y21zU0BafLyoCpUZVHwgAzkkkky5JJkm6dd5fy4UQRTJhiWNzVKmSZPjcxJM41NTQNQ3qv9J/3qQ3qv9J/3qamgpRDRuNz5e599XhvVf6T/AL1NTQSG9V/pP+9SG9V/pP8AvU1NBIb1X+k/70rx3LVrACpmJiCyGDuCVYEqfNTgwNTU0Hf2QFgTbNNpXBwbLdpjwkj9TqPy9StRCFtqTeIOZEH4sT7ampoKvytCCpCkEsYht3m/4vOT8vLVafKVHvhhLM7mGtuyzEnwj5RjU1NBT7jp3rUjuUhhl7QwW0NbdbdbiYnROI5Ujve2TiYLgGDIuUNa8Ha4HU1NBf7vWzpwtt18Q3iv6k+KfHmP/WqVeVIwKsFIJY/Fu4Ib4vME/XXdTQVflCEQQvxfm+Ngzx3YJYAz5RiNWblamk1Fu5GBDBi7Eg7yxa7++pqaAX3JTttz4rrr6l8xHjvv2xE7an3HSlTaO22ILgdrXKSLoYhsyZOT6nXNTQL8N9m1Vy5a4QQqm6EBdXhRd2iVXAgY20/92reKmzgkyCwywUGQGgghVwcYB1NTQcPLF6hq4uJDbtEhSoNt1s2mJjOPQaFV5HTYQRAO8M6yO6QYcXA3HBwZ1zU0DHEcvVyrMFJUQMEQLkbyb8yKf0+eqUuVIotAUCVPxbpFnxeUDXdTQX/YBYafbaWLEQdy95PinxZ0u3JKZLEibrpBLkC7xWrdahOZKgHJ9dTU0DPGcIai2F4EgyogypBG5PmBpPhuRLTYsjMoO6gmDClQSZuwDsCBOYnOu6mgLwPKhRAFNmCyWIZnqSWyfGxO5Jj10N+RUizMRJa6Rc8d/jhbrVu84A9dTU0F+I5OjklsEmSVLoZtCnKsDBVVBGxgY108pTpJRAASmAECl1K2iBDBgwxiZ2J9dTU0HfupLgxCkhDTkhm7TuDLd3zMnJ9TqcPypUtgk2mQWZ3INpXdmJiCRG2pqaDrcsUpTp7LSIKQWUi0QMhpOMZOQTM6q/KEKhYEKtoi4ECQwghpBBAM741NTQdXlSQRvKhSSXYkBiwklpOSTO+dd4vli1JLxJtyLlPa1ywVYEQx8td1NASpwYZ0qG0sgIUwcXRPn7ampqaD/9k=)"
      ],
      "metadata": {
        "id": "IiT3WTM8xcyg"
      }
    },
    {
      "cell_type": "code",
      "source": [
        "!pip install tensorflow\n",
        "!pip install numpy"
      ],
      "metadata": {
        "colab": {
          "base_uri": "https://localhost:8080/"
        },
        "id": "mItI_Vk37Fhr",
        "outputId": "f788eeef-2408-424e-a4c0-7f755c290287"
      },
      "execution_count": 1,
      "outputs": [
        {
          "output_type": "stream",
          "name": "stdout",
          "text": [
            "Requirement already satisfied: tensorflow in /usr/local/lib/python3.10/dist-packages (2.17.0)\n",
            "Requirement already satisfied: absl-py>=1.0.0 in /usr/local/lib/python3.10/dist-packages (from tensorflow) (1.4.0)\n",
            "Requirement already satisfied: astunparse>=1.6.0 in /usr/local/lib/python3.10/dist-packages (from tensorflow) (1.6.3)\n",
            "Requirement already satisfied: flatbuffers>=24.3.25 in /usr/local/lib/python3.10/dist-packages (from tensorflow) (24.3.25)\n",
            "Requirement already satisfied: gast!=0.5.0,!=0.5.1,!=0.5.2,>=0.2.1 in /usr/local/lib/python3.10/dist-packages (from tensorflow) (0.6.0)\n",
            "Requirement already satisfied: google-pasta>=0.1.1 in /usr/local/lib/python3.10/dist-packages (from tensorflow) (0.2.0)\n",
            "Requirement already satisfied: h5py>=3.10.0 in /usr/local/lib/python3.10/dist-packages (from tensorflow) (3.11.0)\n",
            "Requirement already satisfied: libclang>=13.0.0 in /usr/local/lib/python3.10/dist-packages (from tensorflow) (18.1.1)\n",
            "Requirement already satisfied: ml-dtypes<0.5.0,>=0.3.1 in /usr/local/lib/python3.10/dist-packages (from tensorflow) (0.4.1)\n",
            "Requirement already satisfied: opt-einsum>=2.3.2 in /usr/local/lib/python3.10/dist-packages (from tensorflow) (3.3.0)\n",
            "Requirement already satisfied: packaging in /usr/local/lib/python3.10/dist-packages (from tensorflow) (24.1)\n",
            "Requirement already satisfied: protobuf!=4.21.0,!=4.21.1,!=4.21.2,!=4.21.3,!=4.21.4,!=4.21.5,<5.0.0dev,>=3.20.3 in /usr/local/lib/python3.10/dist-packages (from tensorflow) (3.20.3)\n",
            "Requirement already satisfied: requests<3,>=2.21.0 in /usr/local/lib/python3.10/dist-packages (from tensorflow) (2.32.3)\n",
            "Requirement already satisfied: setuptools in /usr/local/lib/python3.10/dist-packages (from tensorflow) (71.0.4)\n",
            "Requirement already satisfied: six>=1.12.0 in /usr/local/lib/python3.10/dist-packages (from tensorflow) (1.16.0)\n",
            "Requirement already satisfied: termcolor>=1.1.0 in /usr/local/lib/python3.10/dist-packages (from tensorflow) (2.4.0)\n",
            "Requirement already satisfied: typing-extensions>=3.6.6 in /usr/local/lib/python3.10/dist-packages (from tensorflow) (4.12.2)\n",
            "Requirement already satisfied: wrapt>=1.11.0 in /usr/local/lib/python3.10/dist-packages (from tensorflow) (1.16.0)\n",
            "Requirement already satisfied: grpcio<2.0,>=1.24.3 in /usr/local/lib/python3.10/dist-packages (from tensorflow) (1.64.1)\n",
            "Requirement already satisfied: tensorboard<2.18,>=2.17 in /usr/local/lib/python3.10/dist-packages (from tensorflow) (2.17.0)\n",
            "Requirement already satisfied: keras>=3.2.0 in /usr/local/lib/python3.10/dist-packages (from tensorflow) (3.4.1)\n",
            "Requirement already satisfied: tensorflow-io-gcs-filesystem>=0.23.1 in /usr/local/lib/python3.10/dist-packages (from tensorflow) (0.37.1)\n",
            "Requirement already satisfied: numpy<2.0.0,>=1.23.5 in /usr/local/lib/python3.10/dist-packages (from tensorflow) (1.26.4)\n",
            "Requirement already satisfied: wheel<1.0,>=0.23.0 in /usr/local/lib/python3.10/dist-packages (from astunparse>=1.6.0->tensorflow) (0.44.0)\n",
            "Requirement already satisfied: rich in /usr/local/lib/python3.10/dist-packages (from keras>=3.2.0->tensorflow) (13.8.1)\n",
            "Requirement already satisfied: namex in /usr/local/lib/python3.10/dist-packages (from keras>=3.2.0->tensorflow) (0.0.8)\n",
            "Requirement already satisfied: optree in /usr/local/lib/python3.10/dist-packages (from keras>=3.2.0->tensorflow) (0.12.1)\n",
            "Requirement already satisfied: charset-normalizer<4,>=2 in /usr/local/lib/python3.10/dist-packages (from requests<3,>=2.21.0->tensorflow) (3.3.2)\n",
            "Requirement already satisfied: idna<4,>=2.5 in /usr/local/lib/python3.10/dist-packages (from requests<3,>=2.21.0->tensorflow) (3.10)\n",
            "Requirement already satisfied: urllib3<3,>=1.21.1 in /usr/local/lib/python3.10/dist-packages (from requests<3,>=2.21.0->tensorflow) (2.2.3)\n",
            "Requirement already satisfied: certifi>=2017.4.17 in /usr/local/lib/python3.10/dist-packages (from requests<3,>=2.21.0->tensorflow) (2024.8.30)\n",
            "Requirement already satisfied: markdown>=2.6.8 in /usr/local/lib/python3.10/dist-packages (from tensorboard<2.18,>=2.17->tensorflow) (3.7)\n",
            "Requirement already satisfied: tensorboard-data-server<0.8.0,>=0.7.0 in /usr/local/lib/python3.10/dist-packages (from tensorboard<2.18,>=2.17->tensorflow) (0.7.2)\n",
            "Requirement already satisfied: werkzeug>=1.0.1 in /usr/local/lib/python3.10/dist-packages (from tensorboard<2.18,>=2.17->tensorflow) (3.0.4)\n",
            "Requirement already satisfied: MarkupSafe>=2.1.1 in /usr/local/lib/python3.10/dist-packages (from werkzeug>=1.0.1->tensorboard<2.18,>=2.17->tensorflow) (2.1.5)\n",
            "Requirement already satisfied: markdown-it-py>=2.2.0 in /usr/local/lib/python3.10/dist-packages (from rich->keras>=3.2.0->tensorflow) (3.0.0)\n",
            "Requirement already satisfied: pygments<3.0.0,>=2.13.0 in /usr/local/lib/python3.10/dist-packages (from rich->keras>=3.2.0->tensorflow) (2.18.0)\n",
            "Requirement already satisfied: mdurl~=0.1 in /usr/local/lib/python3.10/dist-packages (from markdown-it-py>=2.2.0->rich->keras>=3.2.0->tensorflow) (0.1.2)\n",
            "Requirement already satisfied: numpy in /usr/local/lib/python3.10/dist-packages (1.26.4)\n"
          ]
        }
      ]
    },
    {
      "cell_type": "code",
      "execution_count": 14,
      "metadata": {
        "id": "m4DKTrMSwBCV"
      },
      "outputs": [],
      "source": [
        "import numpy as np\n",
        "import tensorflow as tf\n",
        "from tensorflow.keras import Sequential\n",
        "from tensorflow.keras.layers import LSTM, Dense, Embedding, Dropout\n",
        "from tensorflow.keras.datasets import imdb\n",
        "from tensorflow.keras.preprocessing import sequence\n",
        "import random\n"
      ]
    },
    {
      "cell_type": "code",
      "source": [
        "# Step 1: 設定參數\n",
        "# 定義模型和數據集的基本參數，包括詞彙數量、評論長度等\n",
        "max_features = 10000  # 僅考慮數據集中最常見的 10,000 個單詞\n",
        "maxlen = 500  # 每條評論的長度固定為 500 個詞\n",
        "batch_size = 64  # 每次訓練的批次大小"
      ],
      "metadata": {
        "id": "ky4nfc9k8QXE"
      },
      "execution_count": 3,
      "outputs": []
    },
    {
      "cell_type": "code",
      "source": [
        "# Step 2: 加載 IMDB 數據集\n",
        "(x_train, y_train), (x_test, y_test) = imdb.load_data(num_words=max_features)"
      ],
      "metadata": {
        "colab": {
          "base_uri": "https://localhost:8080/"
        },
        "id": "dQBeCwBb8TH0",
        "outputId": "c000c0b2-7647-41bc-f99c-a84193e05ecf"
      },
      "execution_count": 4,
      "outputs": [
        {
          "output_type": "stream",
          "name": "stdout",
          "text": [
            "Downloading data from https://storage.googleapis.com/tensorflow/tf-keras-datasets/imdb.npz\n",
            "\u001b[1m17464789/17464789\u001b[0m \u001b[32m━━━━━━━━━━━━━━━━━━━━\u001b[0m\u001b[37m\u001b[0m \u001b[1m2s\u001b[0m 0us/step\n"
          ]
        }
      ]
    },
    {
      "cell_type": "code",
      "source": [
        "# Step 3: 數據預處理\n",
        "# 將每條評論填充或截斷為固定長度 500，這樣 RNN 能處理固定長度的輸入\n",
        "x_train = sequence.pad_sequences(x_train, maxlen=maxlen)\n",
        "x_test = sequence.pad_sequences(x_test, maxlen=maxlen)"
      ],
      "metadata": {
        "id": "AFcS0vy69vuc"
      },
      "execution_count": 5,
      "outputs": []
    },
    {
      "cell_type": "code",
      "source": [
        "# 隨機選擇評論顯示\n",
        "import random\n",
        "# 獲取詞彙表的索引映射\n",
        "word_index = imdb.get_word_index()\n",
        "# 建立從索引到單詞的映射\n",
        "reverse_word_index = {value: key for (key, value) in word_index.items()}\n",
        "# 選擇一個評論，將其轉換為文字，並過濾掉特殊符號\n",
        "def decode_review(encoded_review):\n",
        "    return ' '.join([reverse_word_index.get(i - 3, '?') for i in encoded_review if i >= 3])\n",
        "random_indices = random.sample(range(len(x_train)), 1)\n",
        "print(\"隨機挑選的5個評論（已截斷至500詞）：\\n\")\n",
        "for i in random_indices:\n",
        "    print(f\"評論 {i} 的原始文字:\")\n",
        "    print(f\"對應標籤（0=負面, 1=正面）: {y_train[i]}\")\n",
        "    print(decode_review(x_train[i]))\n",
        "    print('-' * 80)\n"
      ],
      "metadata": {
        "colab": {
          "base_uri": "https://localhost:8080/"
        },
        "id": "ptLqjjgk95d7",
        "outputId": "657b60a0-c08a-4fb1-b564-ff960c552d1d"
      },
      "execution_count": 6,
      "outputs": [
        {
          "output_type": "stream",
          "name": "stdout",
          "text": [
            "Downloading data from https://storage.googleapis.com/tensorflow/tf-keras-datasets/imdb_word_index.json\n",
            "\u001b[1m1641221/1641221\u001b[0m \u001b[32m━━━━━━━━━━━━━━━━━━━━\u001b[0m\u001b[37m\u001b[0m \u001b[1m1s\u001b[0m 1us/step\n",
            "隨機挑選的5個評論（已截斷至500詞）：\n",
            "\n",
            "評論 6130 的原始文字:\n",
            "對應標籤（0=負面, 1=正面）: 1\n",
            "wow has followed up and z boys with an equally stunning documentary about the history of the big wave surfing culture in america together footage along with interviews from surfing legends we are transported into the daring and free spirited life of the early whose sheer passion for the sport an industry that today touches the lives of millions br br it's getting to know these icons and their stories that gives the film its warmth you can feel the respect has for this group as we hear accounts of greg from a pack of fellow surfers on the beach to challenge 50 foot off north coast or jeff clark surfing the outrageously dangerous maverick off the northern california coast all alone for 15 years before it was discovered and became the surfing destination in california and the history of hamilton today's surfing icon hearing greg refer to hamilton as the best ever sent chills up my spine br br as an aside clark and others were at the sundance described himself as an old over the hill he was deeply moved by the audience reception of him and film both he and clark were as likable in person as they were in the film br br riding giants pays homage to these extraordinary while at the same time rewarding us with an insight into the and terrifying power of the waves they seek to the gut wrenching drops required to get into them and the almost combination of and fear that the surfers experience each time they take on a monster br br all this and the movie has more for those of us that didn't live in california in the 60's we get an insight into the impact of surfing on american pop culture and to my surprise the impact of the movie on surfing also weaves in a on some of the technical aspects of the sport and the history of in equipment i'm not a but like the rest of the sundance audience i was absolutely captivated by this film is his claim as the big of american documentaries\n",
            "--------------------------------------------------------------------------------\n"
          ]
        }
      ]
    },
    {
      "cell_type": "code",
      "source": [
        "# Step 4: 構建 RNN 模型\n",
        "# 構建 LSTM 模型\n",
        "model = Sequential()\n",
        "model.add(Embedding(max_features, 128))  # 將詞彙轉換為 128 維向量\n",
        "model.add(LSTM(128, return_sequences=True))  # 使用 LSTM 層\n",
        "model.add(Dropout(0.5))  # 添加 Dropout 防止過擬合\n",
        "model.add(LSTM(128))  # 第二個 LSTM 層\n",
        "model.add(Dropout(0.5))  # 再次添加 Dropout\n",
        "model.add(Dense(1, activation='sigmoid'))  # 輸出一個二分類結果"
      ],
      "metadata": {
        "id": "OiwFgvhj9_P9"
      },
      "execution_count": 16,
      "outputs": []
    },
    {
      "cell_type": "code",
      "source": [
        "# Step 5: 編譯模型\n",
        "model.compile(optimizer='adam', loss='binary_crossentropy', metrics=['accuracy'])"
      ],
      "metadata": {
        "id": "NhbdhcppBSTa"
      },
      "execution_count": 17,
      "outputs": []
    },
    {
      "cell_type": "code",
      "source": [
        "# Step 6: 訓練模型\n",
        "model.fit(x_train, y_train, epochs=5, batch_size=batch_size, validation_data=(x_test, y_test))\n"
      ],
      "metadata": {
        "colab": {
          "base_uri": "https://localhost:8080/"
        },
        "id": "UQAOMG-LBWMh",
        "outputId": "c524302f-ea69-4ec9-ec61-dfb715564197"
      },
      "execution_count": 18,
      "outputs": [
        {
          "output_type": "stream",
          "name": "stdout",
          "text": [
            "Epoch 1/5\n",
            "\u001b[1m391/391\u001b[0m \u001b[32m━━━━━━━━━━━━━━━━━━━━\u001b[0m\u001b[37m\u001b[0m \u001b[1m35s\u001b[0m 73ms/step - accuracy: 0.6991 - loss: 0.5549 - val_accuracy: 0.8678 - val_loss: 0.3199\n",
            "Epoch 2/5\n",
            "\u001b[1m391/391\u001b[0m \u001b[32m━━━━━━━━━━━━━━━━━━━━\u001b[0m\u001b[37m\u001b[0m \u001b[1m32s\u001b[0m 62ms/step - accuracy: 0.8679 - loss: 0.3236 - val_accuracy: 0.8522 - val_loss: 0.3639\n",
            "Epoch 3/5\n",
            "\u001b[1m391/391\u001b[0m \u001b[32m━━━━━━━━━━━━━━━━━━━━\u001b[0m\u001b[37m\u001b[0m \u001b[1m24s\u001b[0m 61ms/step - accuracy: 0.9077 - loss: 0.2441 - val_accuracy: 0.8560 - val_loss: 0.3476\n",
            "Epoch 4/5\n",
            "\u001b[1m391/391\u001b[0m \u001b[32m━━━━━━━━━━━━━━━━━━━━\u001b[0m\u001b[37m\u001b[0m \u001b[1m41s\u001b[0m 62ms/step - accuracy: 0.9094 - loss: 0.2281 - val_accuracy: 0.8589 - val_loss: 0.3271\n",
            "Epoch 5/5\n",
            "\u001b[1m391/391\u001b[0m \u001b[32m━━━━━━━━━━━━━━━━━━━━\u001b[0m\u001b[37m\u001b[0m \u001b[1m41s\u001b[0m 63ms/step - accuracy: 0.9457 - loss: 0.1532 - val_accuracy: 0.8678 - val_loss: 0.3262\n"
          ]
        },
        {
          "output_type": "execute_result",
          "data": {
            "text/plain": [
              "<keras.src.callbacks.history.History at 0x78df7553e860>"
            ]
          },
          "metadata": {},
          "execution_count": 18
        }
      ]
    },
    {
      "cell_type": "code",
      "source": [
        "# 評估模型\n",
        "test_loss, test_acc = model.evaluate(x_test, y_test)\n",
        "print(f'測試損失: {test_loss}')\n",
        "print(f'測試準確率: {test_acc}')"
      ],
      "metadata": {
        "colab": {
          "base_uri": "https://localhost:8080/"
        },
        "id": "Foh1XV1_BZlZ",
        "outputId": "e63c246f-6726-4e3a-ae86-c4b99562e45b"
      },
      "execution_count": 19,
      "outputs": [
        {
          "output_type": "stream",
          "name": "stdout",
          "text": [
            "\u001b[1m782/782\u001b[0m \u001b[32m━━━━━━━━━━━━━━━━━━━━\u001b[0m\u001b[37m\u001b[0m \u001b[1m12s\u001b[0m 15ms/step - accuracy: 0.8681 - loss: 0.3302\n",
            "測試損失: 0.32619309425354004\n",
            "測試準確率: 0.8677999973297119\n"
          ]
        }
      ]
    },
    {
      "cell_type": "code",
      "source": [
        "# 預測測試集中的評論\n",
        "y_pred = model.predict(x_test)\n"
      ],
      "metadata": {
        "colab": {
          "base_uri": "https://localhost:8080/"
        },
        "id": "gVVnDRpBEciM",
        "outputId": "ec7bd53d-c4b4-4920-8be0-25e9892aa8f7"
      },
      "execution_count": 22,
      "outputs": [
        {
          "output_type": "stream",
          "name": "stdout",
          "text": [
            "\u001b[1m782/782\u001b[0m \u001b[32m━━━━━━━━━━━━━━━━━━━━\u001b[0m\u001b[37m\u001b[0m \u001b[1m10s\u001b[0m 13ms/step\n"
          ]
        }
      ]
    },
    {
      "cell_type": "code",
      "source": [
        "\n",
        "# 隨機選擇 2 個樣本進行比較\n",
        "random_indices = random.sample(range(len(x_test)), 2)\n",
        "for i in random_indices:\n",
        "    pred_label = 1 if y_pred[i][0] >= 0.5 else 0  # 判斷預測結果是否大於等於 0.5\n",
        "    print(f\"評論 {i}:\")\n",
        "    print(f\"預測結果: {y_pred[i][0]:.2f} -> 預測標籤: {pred_label} (0=負面, 1=正面)\")\n",
        "    print(f\"實際結果: {y_test[i]} (0=負面, 1=正面)\")\n",
        "    print('-' * 80)"
      ],
      "metadata": {
        "colab": {
          "base_uri": "https://localhost:8080/"
        },
        "id": "M3uA-kI1KkaB",
        "outputId": "28626346-c084-408c-dac4-35e67bd33334"
      },
      "execution_count": 25,
      "outputs": [
        {
          "output_type": "stream",
          "name": "stdout",
          "text": [
            "評論 21383:\n",
            "預測結果: 0.11 -> 預測標籤: 0 (0=負面, 1=正面)\n",
            "實際結果: 0 (0=負面, 1=正面)\n",
            "--------------------------------------------------------------------------------\n",
            "評論 8080:\n",
            "預測結果: 0.99 -> 預測標籤: 1 (0=負面, 1=正面)\n",
            "實際結果: 1 (0=負面, 1=正面)\n",
            "--------------------------------------------------------------------------------\n"
          ]
        }
      ]
    }
  ]
}