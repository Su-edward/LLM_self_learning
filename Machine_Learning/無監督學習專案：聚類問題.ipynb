{
  "nbformat": 4,
  "nbformat_minor": 0,
  "metadata": {
    "colab": {
      "provenance": [],
      "authorship_tag": "ABX9TyOgakkcXhWRlbFqw7wLmu2U",
      "include_colab_link": true
    },
    "kernelspec": {
      "name": "python3",
      "display_name": "Python 3"
    },
    "language_info": {
      "name": "python"
    }
  },
  "cells": [
    {
      "cell_type": "markdown",
      "metadata": {
        "id": "view-in-github",
        "colab_type": "text"
      },
      "source": [
        "<a href=\"https://colab.research.google.com/github/Su-edward/LLM_self_learning/blob/main/Machine_Learning/%E7%84%A1%E7%9B%A3%E7%9D%A3%E5%AD%B8%E7%BF%92%E5%B0%88%E6%A1%88%EF%BC%9A%E8%81%9A%E9%A1%9E%E5%95%8F%E9%A1%8C.ipynb\" target=\"_parent\"><img src=\"https://colab.research.google.com/assets/colab-badge.svg\" alt=\"Open In Colab\"/></a>"
      ]
    },
    {
      "cell_type": "markdown",
      "source": [
        "##  **無監督學習專案：聚類問題（使用K-means算法）**\n",
        "\n",
        "### **說明：**\n",
        "此專案不需要標記數據，而是根據數據的內在特徵將數據點分為不同的群組。在這裡，我們使用 Wine 數據集，並使用 K-means 聚類算法，將花的特徵進行自動分類，將相似的花歸為同一群。\n",
        "\n",
        "### **使用方法：K-means 聚類（K-means Clustering）**\n",
        "\n",
        "理論：K-means 聚類的理論是最小化每個數據點到所屬群組中心的距離。該算法隨機選擇 K 個中心點（centroids），然後反覆調整這些中心點的位置，直到所有數據點與它們所屬的中心點之間的距離總和最小化。最終結果是數據被分成 K 個聚類。\n",
        "\n"
      ],
      "metadata": {
        "id": "TuZGKMYlD516"
      }
    },
    {
      "cell_type": "code",
      "source": [
        "# Step 1: 安裝必要的庫和工具\n",
        "!pip install scikit-learn matplotlib\n",
        "!apt-get install -y ffmpeg"
      ],
      "metadata": {
        "colab": {
          "base_uri": "https://localhost:8080/"
        },
        "id": "juVoXfdKuaGX",
        "outputId": "289ef44e-29f6-4c0d-8ee7-e0c84d8b00e9"
      },
      "execution_count": 154,
      "outputs": [
        {
          "output_type": "stream",
          "name": "stdout",
          "text": [
            "Requirement already satisfied: scikit-learn in /usr/local/lib/python3.10/dist-packages (1.3.2)\n",
            "Requirement already satisfied: matplotlib in /usr/local/lib/python3.10/dist-packages (3.7.1)\n",
            "Requirement already satisfied: numpy<2.0,>=1.17.3 in /usr/local/lib/python3.10/dist-packages (from scikit-learn) (1.26.4)\n",
            "Requirement already satisfied: scipy>=1.5.0 in /usr/local/lib/python3.10/dist-packages (from scikit-learn) (1.13.1)\n",
            "Requirement already satisfied: joblib>=1.1.1 in /usr/local/lib/python3.10/dist-packages (from scikit-learn) (1.4.2)\n",
            "Requirement already satisfied: threadpoolctl>=2.0.0 in /usr/local/lib/python3.10/dist-packages (from scikit-learn) (3.5.0)\n",
            "Requirement already satisfied: contourpy>=1.0.1 in /usr/local/lib/python3.10/dist-packages (from matplotlib) (1.3.0)\n",
            "Requirement already satisfied: cycler>=0.10 in /usr/local/lib/python3.10/dist-packages (from matplotlib) (0.12.1)\n",
            "Requirement already satisfied: fonttools>=4.22.0 in /usr/local/lib/python3.10/dist-packages (from matplotlib) (4.53.1)\n",
            "Requirement already satisfied: kiwisolver>=1.0.1 in /usr/local/lib/python3.10/dist-packages (from matplotlib) (1.4.7)\n",
            "Requirement already satisfied: packaging>=20.0 in /usr/local/lib/python3.10/dist-packages (from matplotlib) (24.1)\n",
            "Requirement already satisfied: pillow>=6.2.0 in /usr/local/lib/python3.10/dist-packages (from matplotlib) (10.4.0)\n",
            "Requirement already satisfied: pyparsing>=2.3.1 in /usr/local/lib/python3.10/dist-packages (from matplotlib) (3.1.4)\n",
            "Requirement already satisfied: python-dateutil>=2.7 in /usr/local/lib/python3.10/dist-packages (from matplotlib) (2.8.2)\n",
            "Requirement already satisfied: six>=1.5 in /usr/local/lib/python3.10/dist-packages (from python-dateutil>=2.7->matplotlib) (1.16.0)\n",
            "Reading package lists... Done\n",
            "Building dependency tree... Done\n",
            "Reading state information... Done\n",
            "ffmpeg is already the newest version (7:4.4.2-0ubuntu0.22.04.1).\n",
            "0 upgraded, 0 newly installed, 0 to remove and 49 not upgraded.\n"
          ]
        }
      ]
    },
    {
      "cell_type": "code",
      "source": [
        "# Step 2: 匯入所需的庫\n",
        "from sklearn.datasets import load_wine\n",
        "from sklearn.cluster import MiniBatchKMeans\n",
        "from sklearn.preprocessing import StandardScaler\n",
        "import numpy as np\n",
        "import matplotlib.pyplot as plt\n",
        "from matplotlib.animation import FuncAnimation\n",
        "from IPython.display import Video"
      ],
      "metadata": {
        "id": "TOVpyNmwufV2"
      },
      "execution_count": 182,
      "outputs": []
    },
    {
      "cell_type": "code",
      "source": [
        "# Step 3: 加載葡萄酒數據集\n",
        "wine = load_wine()\n",
        "X = wine.data  # 特徵數據\n",
        "y = wine.target  # 實際標籤"
      ],
      "metadata": {
        "id": "BqhleLnQujGu"
      },
      "execution_count": 96,
      "outputs": []
    },
    {
      "cell_type": "code",
      "source": [
        "# Step 4: 標準化數據\n",
        "scaler = StandardScaler()\n",
        "X_scaled = scaler.fit_transform(X)"
      ],
      "metadata": {
        "id": "qVwzzLN0ulpM"
      },
      "execution_count": 97,
      "outputs": []
    },
    {
      "cell_type": "code",
      "source": [
        "# Step 5: 使用 K-means 進行聚類，設置 K 為 3（因為數據集中有三類）\n",
        "kmeans = KMeans(n_clusters=3)\n",
        "kmeans.fit(X_scaled)\n",
        "labels = kmeans.labels_"
      ],
      "metadata": {
        "colab": {
          "base_uri": "https://localhost:8080/"
        },
        "id": "G-bu2ouluq7U",
        "outputId": "e443821e-b191-4fa3-943d-9b9a639e056f"
      },
      "execution_count": 104,
      "outputs": [
        {
          "output_type": "stream",
          "name": "stderr",
          "text": [
            "/usr/local/lib/python3.10/dist-packages/sklearn/cluster/_kmeans.py:1416: FutureWarning: The default value of `n_init` will change from 10 to 'auto' in 1.4. Set the value of `n_init` explicitly to suppress the warning\n",
            "  super()._check_params_vs_input(X, default_n_init=10)\n"
          ]
        }
      ]
    },
    {
      "cell_type": "code",
      "source": [
        "# Step 6: 比較聚類結果與實際標籤，並計算準確度\n",
        "df = pd.DataFrame({'Actual': y, 'Predicted': labels})"
      ],
      "metadata": {
        "id": "E8yt15bputy-"
      },
      "execution_count": 105,
      "outputs": []
    },
    {
      "cell_type": "code",
      "source": [
        "# 使用自動映射函數對標籤進行匹配\n",
        "def find_best_mapping(df):\n",
        "    actual = df['Actual'].values\n",
        "    predicted = df['Predicted'].values\n",
        "    unique_labels = np.unique(predicted)\n",
        "    best_mapping = {}\n",
        "    best_accuracy = 0\n",
        "\n",
        "    for perm in np.array(list(itertools.permutations(np.unique(actual)))):\n",
        "        mapped = [perm[unique_labels.tolist().index(x)] for x in predicted]\n",
        "        accuracy = accuracy_score(actual, mapped)\n",
        "        if accuracy > best_accuracy:\n",
        "            best_accuracy = accuracy\n",
        "            best_mapping = dict(zip(unique_labels, perm))\n",
        "\n",
        "    return best_mapping"
      ],
      "metadata": {
        "id": "jISSdgKIuvwZ"
      },
      "execution_count": 106,
      "outputs": []
    },
    {
      "cell_type": "code",
      "source": [
        "# Step 7: 將聚類結果映射到實際標籤\n",
        "mapping_kmeans = find_best_mapping(df)\n",
        "df['Predicted_mapped'] = df['Predicted'].map(mapping_kmeans)"
      ],
      "metadata": {
        "id": "NkIQX-72uztP"
      },
      "execution_count": 107,
      "outputs": []
    },
    {
      "cell_type": "code",
      "source": [
        "# Step 8: 計算準確度\n",
        "accuracy_kmeans = accuracy_score(df['Actual'], df['Predicted_mapped'])\n",
        "print(f\"Accuracy with K-means: {accuracy_kmeans * 100:.2f}%\")\n",
        "print(df.head())"
      ],
      "metadata": {
        "colab": {
          "base_uri": "https://localhost:8080/"
        },
        "id": "eAwAmt-lu3lf",
        "outputId": "a65de18e-bae9-4891-c01b-063d72f19834"
      },
      "execution_count": 108,
      "outputs": [
        {
          "output_type": "stream",
          "name": "stdout",
          "text": [
            "Accuracy with K-means: 96.63%\n",
            "   Actual  Predicted  Predicted_mapped\n",
            "0       0          0                 0\n",
            "1       0          0                 0\n",
            "2       0          0                 0\n",
            "3       0          0                 0\n",
            "4       0          0                 0\n"
          ]
        }
      ]
    },
    {
      "cell_type": "code",
      "source": [
        "# Step 3: 加載葡萄酒數據集並選擇兩個維度\n",
        "wine = load_wine()\n",
        "X = wine.data  # 特徵數據\n",
        "y = wine.target  # 實際標籤"
      ],
      "metadata": {
        "id": "duGgal9wQZGc"
      },
      "execution_count": 175,
      "outputs": []
    },
    {
      "cell_type": "code",
      "source": [
        "# Step 4: 標準化數據\n",
        "scaler = StandardScaler()\n",
        "X_scaled = scaler.fit_transform(X)"
      ],
      "metadata": {
        "id": "sdO0r6n9Qa-L"
      },
      "execution_count": 176,
      "outputs": []
    },
    {
      "cell_type": "code",
      "source": [
        "# 選擇兩個維度（例如前兩個特徵）\n",
        "X_selected = X_scaled[:, :2]  # 只選擇兩個維度進行可視化"
      ],
      "metadata": {
        "id": "efDs-JSLQcWM"
      },
      "execution_count": 177,
      "outputs": []
    },
    {
      "cell_type": "code",
      "source": [
        "# Step 5: 使用 MiniBatchKMeans 演算法進行部分聚類\n",
        "kmeans = MiniBatchKMeans(n_clusters=3, init='random', max_iter=10, random_state=42)"
      ],
      "metadata": {
        "id": "nOnfLI6qQeeX"
      },
      "execution_count": 178,
      "outputs": []
    },
    {
      "cell_type": "code",
      "source": [
        "# Step 6: 創建動畫，展示每次迭代的分群過程\n",
        "fig, ax = plt.subplots()\n",
        "\n",
        "# 初始化散點圖，所有點都為灰色，並且填充顏色\n",
        "scatter = ax.scatter(X_selected[:, 0], X_selected[:, 1], c='gray', s=50, edgecolor='black')\n",
        "\n",
        "# 設置軸標題\n",
        "ax.set_xlabel('Feature 1')\n",
        "ax.set_ylabel('Feature 2')\n",
        "ax.set_title('K-means Clustering Animation')\n",
        "\n",
        "# 定義顏色映射，用於顯示不同群體的顏色\n",
        "colors = np.array(['blue', 'green', 'purple'])"
      ],
      "metadata": {
        "colab": {
          "base_uri": "https://localhost:8080/",
          "height": 472
        },
        "id": "ExBGMctsQ4_1",
        "outputId": "0430e77a-50c9-4d2b-8b63-eb5b4507ca75"
      },
      "execution_count": 192,
      "outputs": [
        {
          "output_type": "display_data",
          "data": {
            "text/plain": [
              "<Figure size 640x480 with 1 Axes>"
            ],
            "image/png": "[encoded data removed]"
          },
          "metadata": {}
        }
      ]
    },
    {
      "cell_type": "code",
      "source": [
        "# 更新函數，用於更新每一幀\n",
        "def update(i):\n",
        "    if i == 0:\n",
        "        # 第一次更新顯示初始中心點\n",
        "        kmeans.partial_fit(X_selected)\n",
        "        centroids = kmeans.cluster_centers_\n",
        "        centroid_scatter.set_offsets(centroids)\n",
        "        return centroid_scatter,\n",
        "\n",
        "    elif i <= len(X_selected):\n",
        "        # 按順序進行分群，一次處理一個數據點\n",
        "        labels = kmeans.predict(X_selected[:i])  # 逐步分配點到最近的聚類中心\n",
        "        colors_for_points = np.concatenate([colors[labels], np.full(len(X_selected) - i, 'gray')])  # 未分群的點仍然為灰色\n",
        "        scatter.set_facecolor(colors_for_points)  # 更新顏色並填充點\n",
        "        return scatter,\n",
        "\n",
        "    else:\n",
        "        # 完成所有點分配後，更新最終的中心\n",
        "        labels = kmeans.predict(X_selected)\n",
        "        scatter.set_facecolor(colors[labels])  # 使用分群後的顏色並填充\n",
        "        centroids = kmeans.cluster_centers_\n",
        "        centroid_scatter.set_offsets(centroids)\n",
        "        return scatter, centroid_scatter"
      ],
      "metadata": {
        "id": "2CdYhGzeQ7O-"
      },
      "execution_count": 193,
      "outputs": []
    },
    {
      "cell_type": "code",
      "source": [
        "# 顯示初始聚類中心\n",
        "centroids = np.zeros((3, 2))  # 初始化為零，之後會被更新\n",
        "centroid_scatter = ax.scatter(centroids[:, 0], centroids[:, 1], c='red', marker='x', s=200)"
      ],
      "metadata": {
        "id": "YcsKwQijT46t"
      },
      "execution_count": 194,
      "outputs": []
    },
    {
      "cell_type": "code",
      "source": [
        "# 創建動畫，每次逐步更新\n",
        "ani = FuncAnimation(fig, update, frames=range(len(X_selected) + 10), interval=500, repeat=False)\n",
        "\n",
        "# 保存動畫為 mp4 文件\n",
        "ani.save('/content/kmeans_animation_filled.mp4', writer='ffmpeg')\n",
        "\n",
        "# Step 7: 顯示生成的 mp4 文件\n",
        "Video('/content/kmeans_animation_filled.mp4')"
      ],
      "metadata": {
        "colab": {
          "resources": {
            "http://localhost:8080/content/kmeans_animation_filled.mp4": {
              "data": "",
              "ok": false,
              "headers": [
                [
                  "content-length",
                  "0"
                ]
              ],
              "status": 404,
              "status_text": ""
            }
          },
          "base_uri": "https://localhost:8080/",
          "height": 171
        },
        "id": "jA4LNopkRDPt",
        "outputId": "f6571b5d-ca98-4381-d6eb-dbff361b75cd"
      },
      "execution_count": 196,
      "outputs": [
        {
          "output_type": "execute_result",
          "data": {
            "text/plain": [
              "<IPython.core.display.Video object>"
            ],
            "text/html": [
              "<video src=\"/content/kmeans_animation_filled.mp4\" controls  >\n",
              "      Your browser does not support the <code>video</code> element.\n",
              "    </video>"
            ]
          },
          "metadata": {},
          "execution_count": 196
        }
      ]
    }
  ]
}